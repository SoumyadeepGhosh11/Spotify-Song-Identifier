{
 "cells": [
  {
   "cell_type": "code",
   "execution_count": 1,
   "id": "fd0cc038-99b8-480d-9060-372957e2dd5a",
   "metadata": {},
   "outputs": [],
   "source": [
    "import pandas as pd\n",
    "from sklearn.feature_extraction.text import TfidfVectorizer\n",
    "from sklearn.metrics.pairwise import cosine_similarity\n",
    "import gradio as gr\n",
    "import re\n"
   ]
  },
  {
   "cell_type": "code",
   "execution_count": 2,
   "id": "0ac70d35-64e8-4199-867a-c2a37676e12b",
   "metadata": {},
   "outputs": [],
   "source": [
    "df = pd.read_csv(\"Spotify Million Song Dataset_exported.csv\") \n",
    "df.drop(columns=['link'],inplace=True)"
   ]
  },
  {
   "cell_type": "markdown",
   "id": "abd32b84-e578-4cef-87a5-ae9d8d08c07d",
   "metadata": {},
   "source": [
    "# Data Preprocessing"
   ]
  },
  {
   "cell_type": "code",
   "execution_count": 3,
   "id": "44f2377c-f623-4df2-8c50-b187fcbe7265",
   "metadata": {},
   "outputs": [],
   "source": [
    "\n",
    "def clean_lyrics(text):\n",
    "    if isinstance(text, str):\n",
    "        text = re.sub(r'\\s+', ' ', text)  # Replace multiple spaces with a single space\n",
    "        text = re.sub(r'[^\\w\\s]', '', text)  # Remove special characters\n",
    "        return text.strip()\n",
    "    return text\n",
    "\n",
    "df['text'] = df['text'].apply(clean_lyrics)"
   ]
  },
  {
   "cell_type": "code",
   "execution_count": 4,
   "id": "e741c75d-f09a-4bd3-b337-96bc365de5ae",
   "metadata": {},
   "outputs": [],
   "source": [
    "\n",
    "vectorizer = TfidfVectorizer(stop_words='english')\n",
    "tfidf_matrix = vectorizer.fit_transform(df['text'])\n"
   ]
  },
  {
   "cell_type": "code",
   "execution_count": null,
   "id": "cf5116c0-50fa-4452-831b-953888642737",
   "metadata": {},
   "outputs": [],
   "source": [
    "def find_song_by_snippet(snippet, df, vectorizer, tfidf_matrix):\n",
    "    snippet = snippet.lower().strip()\n",
    "    snippet_vector = vectorizer.transform([snippet])\n",
    "    similarities = cosine_similarity(snippet_vector, tfidf_matrix).flatten()\n",
    "    most_similar_index = similarities.argmax()\n",
    "    if similarities[most_similar_index] > 0.2:  # Threshold to avoid weak matches\n",
    "        return df.iloc[most_similar_index]['song'], df.iloc[most_similar_index]['artist']\n",
    "    return \"Song not found\", \"Artist not found\""
   ]
  },
  {
   "cell_type": "markdown",
   "id": "6f5fb412-932f-4ab4-b4d1-2aef5e0a60ec",
   "metadata": {},
   "source": [
    "# Output Interface"
   ]
  },
  {
   "cell_type": "code",
   "execution_count": 5,
   "id": "561e4890-05c7-45c0-94f5-abbbdea3407c",
   "metadata": {},
   "outputs": [
    {
     "name": "stdout",
     "output_type": "stream",
     "text": [
      "Running on local URL:  http://127.0.0.1:7860\n",
      "\n",
      "To create a public link, set `share=True` in `launch()`.\n"
     ]
    },
    {
     "data": {
      "text/html": [
       "<div><iframe src=\"http://127.0.0.1:7860/\" width=\"100%\" height=\"500\" allow=\"autoplay; camera; microphone; clipboard-read; clipboard-write;\" frameborder=\"0\" allowfullscreen></iframe></div>"
      ],
      "text/plain": [
       "<IPython.core.display.HTML object>"
      ]
     },
     "metadata": {},
     "output_type": "display_data"
    },
    {
     "data": {
      "text/plain": []
     },
     "execution_count": 5,
     "metadata": {},
     "output_type": "execute_result"
    }
   ],
   "source": [
    "\n",
    "def identify_song(snippet):\n",
    "    song, artist = find_song_by_snippet(snippet, df, vectorizer, tfidf_matrix)\n",
    "    return f\"Song: {song}\\nArtist: {artist}\"\n",
    "\n",
    "\n",
    "iface = gr.Interface(\n",
    "    fn=identify_song, \n",
    "    inputs=gr.Textbox(lines=2, placeholder=\"Enter a snippet of lyrics...\"), \n",
    "    outputs=\"text\",\n",
    "    title=\"Spotify Song Identifier\",\n",
    "    description=\"Enter a snippet of lyrics to identify the song and artist \"\n",
    ")\n",
    "\n",
    "\n",
    "iface.launch()"
   ]
  },
  {
   "cell_type": "code",
   "execution_count": null,
   "id": "73458071-3d11-45ca-8430-eb05252f5370",
   "metadata": {},
   "outputs": [],
   "source": []
  }
 ],
 "metadata": {
  "kernelspec": {
   "display_name": "Python 3 (ipykernel)",
   "language": "python",
   "name": "python3"
  },
  "language_info": {
   "codemirror_mode": {
    "name": "ipython",
    "version": 3
   },
   "file_extension": ".py",
   "mimetype": "text/x-python",
   "name": "python",
   "nbconvert_exporter": "python",
   "pygments_lexer": "ipython3",
   "version": "3.12.4"
  }
 },
 "nbformat": 4,
 "nbformat_minor": 5
}
